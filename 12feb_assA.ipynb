{
 "cells": [
  {
   "cell_type": "markdown",
   "id": "9acaa279-4cb3-4e40-8566-3b1a33a6c872",
   "metadata": {},
   "source": [
    "#1:ans:-an exception is an error that hapens during the execution of a program.\n",
    "        #differece between exception and syntax error\n",
    "        #syntax error: this exception is raised when the interpretor encounters a syntax error in the code ,such as a misspelled keyword,a missing colon or an unbalanched parenthisis. it leads to the termination of the program.\n",
    "        #exception:exception are raised when the program is syntatically correct,but the code result is an error. this error does not stop the execution of the program,however ,it changes the normal flow of the program."
   ]
  },
  {
   "cell_type": "markdown",
   "id": "cf4b7c7b-cfc5-43aa-960e-11b770ef6dba",
   "metadata": {},
   "source": [
    "#2:ans:-A direct logic is followed to catch exceptions in Python. When an exception occurs, the Python interpreter stops the current process. It is handled by passing through the calling process. If not, the program will crash.\n",
    "#For instance, a Python program has a function X that calls function Y, which in turn calls function Z. If an exception exists in function Z but is not handled within Z, the exception passes to Y and then to X. Simply, it will have a domino effect. "
   ]
  },
  {
   "cell_type": "markdown",
   "id": "55baede3-ae80-40f6-ad65-da8793418d4f",
   "metadata": {},
   "source": [
    "#3:ans:-The try and except block in Python is used to catch and handle exceptions.\n",
    "       ex:\n",
    "       try:\n",
    "          a=10\n",
    "          a/0\n",
    "          print(a)\n",
    "       except Exception as e:\n",
    "          print('this is my error occur',e)\n",
    "      "
   ]
  },
  {
   "cell_type": "markdown",
   "id": "6b3c8a58-4e87-4892-b551-e766955510f5",
   "metadata": {},
   "source": [
    "#4:ans.Try with Else Clause\n",
    "In Python, you can also use the else clause on the try-except block which must be present after all the except clauses. The code enters the else block only if the try clause does not raise an exception.\n",
    "\n",
    "Example: Try with else clause\n",
    "\n"
   ]
  },
  {
   "cell_type": "code",
   "execution_count": 5,
   "id": "c8a3780c-9bf0-4d93-85ed-9b169ac4a8e4",
   "metadata": {},
   "outputs": [
    {
     "name": "stdout",
     "output_type": "stream",
     "text": [
      "2.0\n",
      "a/b result in 0\n"
     ]
    }
   ],
   "source": [
    "def div(a, b):\n",
    "    try:\n",
    "        c=a/b\n",
    "    \n",
    "    except ZeroDivisionError:\n",
    "        print(\"a/b result in 0\")\n",
    "    else:\n",
    "        print(c)\n",
    "    \n",
    "div(4,2)\n",
    "div(4,0)"
   ]
  },
  {
   "cell_type": "markdown",
   "id": "6d7df0f7-2f98-4061-ad6b-37cdbb195c69",
   "metadata": {},
   "source": [
    "#4:-Finally Keyword in Python\n",
    "#Python provides a keyword finally, which is always executed after the try and except blocks. The final block always executes after the normal termination of the try block or after the try block terminates due to some exception.\n",
    "#example"
   ]
  },
  {
   "cell_type": "code",
   "execution_count": 6,
   "id": "33901211-c8c1-4ebc-ba58-f0a56f31cc6e",
   "metadata": {},
   "outputs": [
    {
     "name": "stdout",
     "output_type": "stream",
     "text": [
      "2.0\n",
      "always executed\n",
      "a/b result in 0\n",
      "always executed\n"
     ]
    }
   ],
   "source": [
    "def div(a, b):\n",
    "    try:\n",
    "        c=a/b\n",
    "    \n",
    "    except ZeroDivisionError:\n",
    "        print(\"a/b result in 0\")\n",
    "        \n",
    "    else:\n",
    "        print(c)\n",
    "    finally:\n",
    "        print('always executed')\n",
    "    \n",
    "div(4,2)\n",
    "div(4,0)"
   ]
  },
  {
   "cell_type": "markdown",
   "id": "a0fc4eb6-f937-4cdb-b718-cfe876efb714",
   "metadata": {},
   "source": [
    "#4:-The raise statement allows the programmer to force a specific exception to occur. The sole argument in raise indicates the exception to be raised. This must be either an exception instance or an exception class (a class that derives from Exception).\n",
    "ex:-"
   ]
  },
  {
   "cell_type": "code",
   "execution_count": 8,
   "id": "eb600010-1385-41f3-ad45-f70955e0c8da",
   "metadata": {},
   "outputs": [
    {
     "name": "stdout",
     "output_type": "stream",
     "text": [
      "An exception\n"
     ]
    }
   ],
   "source": [
    "try:  \n",
    "    raise NameError(\"Hi there\")  # Raise Error \n",
    "except NameError: \n",
    "    print (\"An exception\") "
   ]
  },
  {
   "cell_type": "markdown",
   "id": "bb03a21a-ee17-4360-99ca-0f2dc7d64f6e",
   "metadata": {},
   "source": [
    "#q.5.ans:A Python custom exception is a user-defined exception that is created by the programmer to handle specific error scenarios in a program\n",
    "Here’s why you should consider using a Python custom exception in your upcoming project:\n",
    "\n",
    "Readability and Maintainability: A Custom exception with descriptive names make your code more readable and easier to understand, promoting better collaboration and troubleshooting.\n",
    "Tailored Error Handling: Custom exceptions allow you to handle errors in a way that suits your application’s logic and requirements, providing more precise error management.\n",
    "Enforced Design Patterns: Custom exceptions encourage consistent error-handling practices and can be shared across modules or projects, promoting code reusability.\n",
    "Enhanced Code Documentation: Clear exception names act as self-documenting elements, providing insights into potential error scenarios and facilitating code understanding.\n",
    "Precise Error Reporting: Custom exceptions enable you to generate detailed error messages, providing valuable information to users or administrators and aiding in bug fixing.\n",
    "By leveraging the power of custom exceptions in Python, you can improve code quality, maintainability, and user experience in your Python projects. Now, let’s dive deeper into defining, raising, and handling custom exceptions effectively."
   ]
  },
  {
   "cell_type": "code",
   "execution_count": 15,
   "id": "912b4523-f1f6-4a74-bd15-7025f6ea7f75",
   "metadata": {},
   "outputs": [
    {
     "name": "stdin",
     "output_type": "stream",
     "text": [
      "enter number 10\n"
     ]
    },
    {
     "name": "stdout",
     "output_type": "stream",
     "text": [
      "error occured\n"
     ]
    }
   ],
   "source": [
    "#q.6.ans:\n",
    "class invalidage(Exception):\n",
    "    pass\n",
    "\n",
    "number=18\n",
    "try:\n",
    "    input_num=int(input('enter number'))\n",
    "    if input_num<number:\n",
    "        raise invalidage\n",
    "    else:\n",
    "        print('valid')\n",
    "except invalidage:\n",
    "    print('error occured')"
   ]
  },
  {
   "cell_type": "code",
   "execution_count": null,
   "id": "40eb1be7-dd66-4ca2-a6cb-bed43943f9b4",
   "metadata": {},
   "outputs": [],
   "source": []
  }
 ],
 "metadata": {
  "kernelspec": {
   "display_name": "Python 3 (ipykernel)",
   "language": "python",
   "name": "python3"
  },
  "language_info": {
   "codemirror_mode": {
    "name": "ipython",
    "version": 3
   },
   "file_extension": ".py",
   "mimetype": "text/x-python",
   "name": "python",
   "nbconvert_exporter": "python",
   "pygments_lexer": "ipython3",
   "version": "3.10.8"
  }
 },
 "nbformat": 4,
 "nbformat_minor": 5
}
